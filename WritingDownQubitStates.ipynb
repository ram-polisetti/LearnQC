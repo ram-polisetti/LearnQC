{
 "cells": [
  {
   "cell_type": "code",
   "execution_count": 14,
   "id": "e3148409",
   "metadata": {},
   "outputs": [],
   "source": [
    "from qiskit import *\n",
    "from qiskit.visualization import plot_histogram, plot_bloch_multivector\n",
    "import numpy as np\n",
    "from qiskit_aer import Aer"
   ]
  },
  {
   "cell_type": "code",
   "execution_count": null,
   "id": "be3c5126",
   "metadata": {},
   "outputs": [
    {
     "data": {
      "text/plain": [
       "<qiskit.circuit.instructionset.InstructionSet at 0x15221b53550>"
      ]
     },
     "execution_count": 9,
     "metadata": {},
     "output_type": "execute_result"
    }
   ],
   "source": [
    "# z measurement for qubit-0\n",
    "q_reg = QuantumRegister(1, 'q')\n",
    "c_reg = ClassicalRegister(1, 'c')\n",
    "\n",
    "measure_z = QuantumCircuit(q_reg, c_reg)\n",
    "measure_z.measure(q_reg, c_reg)\n",
    "\n",
    "# x measurement for qubit-0\n",
    "measure_x = QuantumCircuit(q_reg, c_reg)\n",
    "measure_x.h(q_reg)\n",
    "\n",
    "measure_x.measure(q_reg, c_reg)\n"
   ]
  },
  {
   "cell_type": "markdown",
   "id": "1eb0832c",
   "metadata": {},
   "source": [
    "z measurement usually gives zero if we do nothing but a measurement and it is certain to come as 0. it is |0>, 0 is the name of the state of qubit which is 0. the zero inside the ket can be anything but for easy notation we use 0\n",
    "\n",
    "Ket(|>), its just a column representing a qubit state \n",
    "\n",
    "like |0> there is |1> too just to make it easier for notation\n",
    "\n",
    "\n",
    "lly <0| and <1| are row vectors \n",
    "\n",
    "this is called bra(<|) ket(|>) notation or Dirac notation"
   ]
  },
  {
   "cell_type": "markdown",
   "id": "ec06fe92",
   "metadata": {},
   "source": [
    "inner product of any vector with itself is 1 (Normalization Condition)"
   ]
  },
  {
   "cell_type": "code",
   "execution_count": 13,
   "id": "1a0f118c",
   "metadata": {},
   "outputs": [
    {
     "data": {
      "image/png": "[encoded data removed]",
      "text/plain": [
       "<Figure size 519.897x117.056 with 1 Axes>"
      ]
     },
     "execution_count": 13,
     "metadata": {},
     "output_type": "execute_result"
    }
   ],
   "source": [
    "qc = QuantumCircuit(q_reg)\n",
    "qc.h(q_reg)\n",
    "qc.x(q_reg)\n",
    "qc.y(q_reg)\n",
    "qc.z(q_reg)\n",
    "\n",
    "theta = np.pi/4\n",
    "qc.ry(theta, q_reg) # y axis rotation\n",
    "qc.draw(output = 'mpl')"
   ]
  },
  {
   "cell_type": "code",
   "execution_count": 67,
   "id": "3f8df2be",
   "metadata": {},
   "outputs": [
    {
     "name": "stdout",
     "output_type": "stream",
     "text": [
      "1.0000250488519669\n"
     ]
    }
   ],
   "source": [
    "shots = 2**14\n",
    "\n",
    "uncertainity = 0\n",
    "for measure_circuit in [measure_z, measure_x]:\n",
    "    result = Aer.get_backend('qasm_simulator').run(measure_circuit, shots=shots).result()\n",
    "    counts = result.get_counts(measure_circuit)\n",
    "    probs = {}\n",
    "    for output in ['0', '1']:\n",
    "        if output in counts:\n",
    "            probs[output] = counts[output] / shots\n",
    "        else:\n",
    "            probs[output] = 0\n",
    "    uncertainity += (probs.get('0', 0) - probs.get('1', 0))**2\n",
    "print(uncertainity)"
   ]
  },
  {
   "cell_type": "markdown",
   "id": "a079ad80",
   "metadata": {},
   "source": [
    "What is (probs['0'] - probs['1'])? \n",
    "\n",
    "For a single qubit: \n",
    "\n",
    "    probs['0'] + probs['1'] = 1\n",
    "    So: probs['0'] - probs['1'] = 2*probs['0'] - 1 = expectation value of Pauli Z (or X)\n",
    "     \n",
    "\n",
    "Let’s define: \n",
    "\n",
    "    For Z measurement: ⟨Z⟩ = P(0) - P(1)\n",
    "    For X measurement: ⟨X⟩ = P(0) - P(1) in X-basis\n",
    "     \n",
    "\n",
    "uncertainity = ⟨Z⟩² + ⟨X⟩²"
   ]
  },
  {
   "cell_type": "markdown",
   "id": "5981fa68",
   "metadata": {},
   "source": [
    "Now, for a qubit state, what is the maximum of ⟨Z⟩² + ⟨X⟩²? \n",
    "\n",
    "Recall: For a single qubit, the Bloch vector has components: \n",
    "\n",
    "    ⟨X⟩² + ⟨Y⟩² + ⟨Z⟩² ≤ 1 (equality for pure states)\n",
    "     \n",
    "\n",
    "So: \n",
    "\n",
    "    ⟨Z⟩² + ⟨X⟩² ≤ 1\n",
    "     \n",
    "\n",
    "Wait — that suggests it should not exceed 1! \n",
    "\n",
    "But here's the catch: Are you measuring the same qubit in both bases, on the same state? "
   ]
  },
  {
   "cell_type": "markdown",
   "id": "56c4d8e6",
   "metadata": {},
   "source": [
    "For a single qubit measurement: \n",
    "\n",
    "    If you measure in the Z basis: \n",
    "        P(0) = probability of outcome |0⟩\n",
    "        P(1) = probability of outcome |1⟩\n",
    "\n",
    "        The expectation value of Z is:  \n",
    "        ⟨Z⟩=(+1)⋅P(0)+(−1)⋅P(1)=P(0)−P(1) \n",
    "         \n",
    "\n",
    "    Similarly, in the X basis: \n",
    "        P(0) = probability of outcome |+⟩\n",
    "        P(1) = probability of outcome |-⟩\n",
    "         \n",
    "        ⟨X⟩=P(0)−P(1)(in X-basis) \n",
    "         \n",
    "     "
   ]
  },
  {
   "cell_type": "code",
   "execution_count": null,
   "id": "0a16f175",
   "metadata": {},
   "outputs": [],
   "source": []
  },
  {
   "cell_type": "code",
   "execution_count": null,
   "id": "0bbc875b",
   "metadata": {},
   "outputs": [],
   "source": []
  }
 ],
 "metadata": {
  "kernelspec": {
   "display_name": "Python 3",
   "language": "python",
   "name": "python3"
  },
  "language_info": {
   "codemirror_mode": {
    "name": "ipython",
    "version": 3
   },
   "file_extension": ".py",
   "mimetype": "text/x-python",
   "name": "python",
   "nbconvert_exporter": "python",
   "pygments_lexer": "ipython3",
   "version": "3.12.6"
  }
 },
 "nbformat": 4,
 "nbformat_minor": 5
}
